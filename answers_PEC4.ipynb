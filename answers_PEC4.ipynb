{
 "cells": [
  {
   "cell_type": "markdown",
   "id": "monetary-conditions",
   "metadata": {},
   "source": [
    "<div style=\"width: 100%; clear: both;\">\n",
    "    <div style=\"float: left; width: 50%;\">\n",
    "       <img src=\"http://www.uoc.edu/portal/_resources/common/imatges/marca_UOC/UOC_Masterbrand.jpg\", align=\"left\">\n",
    "    </div>\n",
    "</div>\n",
    "\n",
    "<div style=\"float: right; width: 50%;\">\n",
    "    <p style=\"margin: 0; padding-top: 22px; text-align:right;\">22.503 · Programación para la ciencia de datos</p>\n",
    "    <p style=\"margin: 0; text-align:right;\">Grado en Ciencia de Datos Aplicada</p>\n",
    "    <p style=\"margin: 0; text-align:right; padding-button: 100px;\">Estudios de Informática, Multimedia y Telecomunicación</p>\n",
    "</div>\n",
    "\n",
    "</div>\n",
    "<div style=\"width: 100%; clear: both;\">\n",
    "<div style=\"width:100%;\">&nbsp;</div>"
   ]
  },
  {
   "cell_type": "markdown",
   "id": "chemical-transparency",
   "metadata": {},
   "source": [
    "# PEC 4 respuestas\n",
    "\n",
    "Autor: Alejandro Prieto Velasco"
   ]
  },
  {
   "cell_type": "markdown",
   "id": "innovative-partition",
   "metadata": {},
   "source": [
    "# Eunciado\n",
    "Será necesario que generéis funciones que os permitan hacer los siguientes cálculos:\n",
    "\n",
    "1. Del archivo `covid_approval_polls.csv`:\n",
    "<br>1.1 Implementad una función que cuente **de forma eficiente** y muestre por pantalla el número de veces que aparecen los patrones descritos (es decir, en cuántas líneas aparece) a continuación en el archivo, incluyendo un mensaje explicativo de los valores que mostráis por pantalla.\n",
    "<br>Los patrones a considerar son:\n",
    "   - El término *Huffington Post* \n",
    "   - Una url (sea http o https) con formato pdf. Por ejemplo: *https://d25d2506sfb94s.cloudfront.net/cumulus_uploads/document/73jqd6u5mv/econTabReport.pdf*<br>\n",
    "    <br>Un ejemplo de *output* sería:\n",
    "    \n",
    "    *The pattern Huffington_Post appears X times.*\n",
    "    \n",
    "    *The pattern url_pdf appears Y times.*<br>\n",
    "\n",
    "  <br>1.2 ¿Si tuviéramos un archivo de 1Gb lo harías igual? Si no es así, implementar la solución para este caso.\n",
    "  <br>1.3 ¿Si tuviéramos 100 archivos de 1Gb cómo lo harías? No hace falta implementar la solución, sólo una pequeña descripción de cómo resolverías el problema.\n",
    "\n",
    "2. Leer los archivos facilitados de la forma más eficiente teniendo en cuenta las tareas pedidas a continuación y en el ejercicio 3, 4 y 5. Justificar vuestra decisión.\n",
    "<br>Preparad los datos para cada .csv, obteniendo dos tablas que llamaremos `approval_polls`(proveniente de `covid_approval_polls.csv`) y `concern_polls` (proveniente de `covid_concern_polls.csv`) de forma que se cumplan todos los siguientes requisitos:\n",
    "     - Sólo estaremos interesados en las entrevistas en las cuales su agente entrevistador (*pollster*) esté en la tabla `pollster_ratings.xlsx`\n",
    "     - Sólo estaremos interesados en las entrevistas sin *tracking*.\n",
    "     - Sólo estaremos interesados en las entrevistas en las cuales su agente entrevistador no ha estado vetato (*banned*).\n",
    "\n",
    "**Nota:** Para leer archivos en formato *xlsx* podéis instalar librerías addicionales en la máquina virtual.\n",
    "\n",
    "\n",
    "3. Sobre los datos extraídos en el ejercicio 2 de la tabla `approval_polls`, calculad y representad gráficamente:<br>\n",
    "    <br> 3.1 El número de personas que aprueban (*approve*) y el número de personas que desaprueban (*disapprove*), para las preguntas que contienen las palabras *Trump* y *coronavirus* en el texto. Representaremos estos datos por cada partido (*party*) (*D* (demócratas), *R* (republicanos), *I* (independientes), *all* (personas sin clasificar por partido)).<br>\n",
    "    \n",
    "\n",
    "\n",
    "4. Sobre los datos extraídos en el ejercicio 2 de la tabla `concern_polls`, teniendo en cuenta las siguientes transformaciones sobre el grado en la clasificación (*grade*) `*`, calculad y representad gráficamente (excepto el 4.1):<br>\n",
    "    <br> 4.1 Cuánta gente ha participado en las entrevistas. Representar el resultado por pantalla debidamente formatado.\n",
    "    <br> 4.2 Cuánta gente en la materia (*subject*) de la entrevista relacionada con la economia (*economy*) está *very* (*concern*, preocupación) y cuánta está *not_at_all* (*concern*, preocupación).\n",
    "    <br> 4.3 Cuál es el porcentaje de gente en la matèria (*subject*) de la entrevista relacionada con la infección (*infected*) está *very* (*concern*, preocupación) y cuánta está *not_at_all* (*concern*, preocupación).\n",
    "    <br> 4.4 Cuántas entrevistas hay por cada nota clasificatoria (*grade*).\n",
    "    \n",
    "`*` La nota clasificatoria será reducida a sólo los valores *A, B, C, D, F* teniendo en cuenta que en caso de tener una valoración entre dos categorías nos quedaremos con la inferior. *Ejemplo B/C &#8594; C, B- &#8594; B, B+ &#8594; B*.\n",
    "\n",
    "5. A partir de los datos del ejercicio 4, crearemos una nueva variable que será la puntuación (credibilidad) que le daremos a ese agente entrevistador. Esta puntuación vendrá dada por:\n",
    "    \n",
    "    puntuación = nota evaluada + *Predictive    Plus-Minus*\n",
    "    \n",
    "    Donde la nota evaluada se refiere a que la clasificación por *A, B, C, D, F* se evaluará de la siguiente forma:\n",
    "    A &#8594; 1, B &#8594; 0.5, C &#8594; 0, D &#8594; -0.5, F &#8594; -1\n",
    "   \n",
    "   <br> 5.1 Calcular (y representar gráficamente) para aquellas entrevistas que su puntuación sea superior o igual a 1.5:\n",
    "   \n",
    "    a) El número de personas según el nivel de preocupación (*concern very, somewhat,...*) en función si la entrevista había finalizado estricatament antes del 2020-09-01 (1 de septiembre de 2020), o después.\n",
    "    \n",
    "    b) El porcentaje de personas según el nivel de preocupación (*concern very, somewhat,...*) en función si la entrevista había finalizado estricatament antes del 2020-09-01, o después. (**Nota:** porcentaje respecto el número de personas por cada grupo antes del 2020-09-01 y después).\n",
    "\n",
    "    <br> 5.2 ¿Qué podéis decir de las dos gráficas obtenidas en el ejercicio anterior (5.1)? ¿Qué conclusiones podéis extraer?\n"
   ]
  },
  {
   "cell_type": "markdown",
   "id": "binary-present",
   "metadata": {},
   "source": [
    "# Respuestas\n",
    "\n",
    "# Ejercicio 1\n",
    "<br> Apartado 1.1 \n",
    "\n",
    "Primero vamos a ejecutar el módulo de carga que contiene los paths de cada archivocomo: `path_approval =\"data/covid_approval_polls.csv\", path_concer = \"data/covid_concern_polls.csv\" y path_ratings = \"data/pollster_ratings.xlsx\"`\n",
    "\n",
    "También vamos a importar la función count_pattern_bigfile del módulo data_exploration_maipulation. Esta función lee línea a línea el archivo que recibe como path y comprueba si contiene un regex definida en pattern. Tal y como propone el enunciado vamos a probar con el término \"Huffington Post\" y una url con formato pdf \"https?:\\/\\/.*\\.pdf[\\s]\""
   ]
  },
  {
   "cell_type": "code",
   "execution_count": 1,
   "id": "cathedral-mouse",
   "metadata": {},
   "outputs": [],
   "source": [
    "from data_load import path_approval, path_concern, path_ratings\n",
    "from exploration_manipulation import count_pattern_bigfile"
   ]
  },
  {
   "cell_type": "code",
   "execution_count": 2,
   "id": "017a9e9d-f25d-4556-b78e-e8409f04b40d",
   "metadata": {},
   "outputs": [
    {
     "name": "stdout",
     "output_type": "stream",
     "text": [
      "-path_aproval is: \"data/covid_approval_polls.csv\"\n",
      "-path_concern is: \"data/covid_concern_polls.csv\"\n",
      "-path_ratings is: \"data/pollster_ratings.xlsx\"\n"
     ]
    }
   ],
   "source": [
    " print('-path_aproval is: \"{}\"\\n-path_concern is: \"{}\"\\n-path_ratings is: \"{}\"'.format(\n",
    "     path_approval, path_concern, path_ratings))"
   ]
  },
  {
   "cell_type": "code",
   "execution_count": 3,
   "id": "modified-selection",
   "metadata": {},
   "outputs": [
    {
     "data": {
      "text/plain": [
       "'The pattern Huffington Post appears 112 times.'"
      ]
     },
     "execution_count": 3,
     "metadata": {},
     "output_type": "execute_result"
    }
   ],
   "source": [
    "count_pattern_bigfile(path=path_approval, pattern=\"Huffington Post\")"
   ]
  },
  {
   "cell_type": "code",
   "execution_count": 4,
   "id": "assisted-behavior",
   "metadata": {},
   "outputs": [
    {
     "data": {
      "text/plain": [
       "'The pattern https?:\\\\/\\\\/.*\\\\.pdf[\\\\s] appears 1304 times.'"
      ]
     },
     "execution_count": 4,
     "metadata": {},
     "output_type": "execute_result"
    }
   ],
   "source": [
    "count_pattern_bigfile(path=path_approval,\n",
    "                      pattern=\"https?:\\/\\/.*\\.pdf[\\s]\")"
   ]
  },
  {
   "cell_type": "markdown",
   "id": "little-belfast",
   "metadata": {},
   "source": [
    "<br>Apartado 1.2\n",
    "\n",
    "Esta función esta diseñada para leer archivos línea a línea lo cual le permite trabajar sin problemas con archivos grandes, ya que en memoría solo habrá una línea cargada a la vez"
   ]
  },
  {
   "cell_type": "markdown",
   "id": "tracked-seventh",
   "metadata": {},
   "source": [
    "<br>Apartado 1.3\n",
    "\n",
    "Si tuviese que cargar 100 archivos de 1 GB cada uno usaría el multithreading, ya que esto no es una tarea que requiera un uso intensivo de CPU y es una tarea en la que se requiere leer del disco, así mientras la CPU espera a leer cada línea puede ir permitiendo que otros hilos se ejecuten de manera concurrente."
   ]
  },
  {
   "cell_type": "markdown",
   "id": "neither-element",
   "metadata": {},
   "source": [
    "# Ejercicio 2\n",
    "\n",
    "La forma que he elegido es mediantes pandas cargar los datos en un dataframe, después realizar un join con la tabla ratings, añadir la columna que necesite de pollster_ratings, y filtrar los resultados de estos bajo lso criterios descritos en el enunciado. \n",
    "\n",
    "El hecho de tomar este camino ha sido básicamente que tanto en este ejercicio como en los siguientes se pide filtrar por columnas del csv pollster_ratings y me ha precido que la opción más sencilla es irle añadiendo al covid_concer o covid_approval la columna del set con los ratings que necesite y después filtrar o hacer las operacione que necesite."
   ]
  },
  {
   "cell_type": "code",
   "execution_count": 5,
   "id": "celtic-deviation",
   "metadata": {},
   "outputs": [
    {
     "data": {
      "text/html": [
       "<div>\n",
       "<style scoped>\n",
       "    .dataframe tbody tr th:only-of-type {\n",
       "        vertical-align: middle;\n",
       "    }\n",
       "\n",
       "    .dataframe tbody tr th {\n",
       "        vertical-align: top;\n",
       "    }\n",
       "\n",
       "    .dataframe thead th {\n",
       "        text-align: right;\n",
       "    }\n",
       "</style>\n",
       "<table border=\"1\" class=\"dataframe\">\n",
       "  <thead>\n",
       "    <tr style=\"text-align: right;\">\n",
       "      <th></th>\n",
       "      <th>start_date</th>\n",
       "      <th>end_date</th>\n",
       "      <th>pollster</th>\n",
       "      <th>sponsor</th>\n",
       "      <th>sample_size</th>\n",
       "      <th>population</th>\n",
       "      <th>party</th>\n",
       "      <th>subject</th>\n",
       "      <th>tracking</th>\n",
       "      <th>text</th>\n",
       "      <th>approve</th>\n",
       "      <th>disapprove</th>\n",
       "      <th>url</th>\n",
       "      <th>Banned by 538</th>\n",
       "    </tr>\n",
       "  </thead>\n",
       "  <tbody>\n",
       "    <tr>\n",
       "      <th>0</th>\n",
       "      <td>2020-02-02</td>\n",
       "      <td>2020-02-04</td>\n",
       "      <td>YouGov</td>\n",
       "      <td>Economist</td>\n",
       "      <td>1500.0</td>\n",
       "      <td>a</td>\n",
       "      <td>all</td>\n",
       "      <td>Trump</td>\n",
       "      <td>False</td>\n",
       "      <td>Do you approve or disapprove of Donald Trump’s...</td>\n",
       "      <td>42.0</td>\n",
       "      <td>29.0</td>\n",
       "      <td>https://d25d2506sfb94s.cloudfront.net/cumulus_...</td>\n",
       "      <td>no</td>\n",
       "    </tr>\n",
       "    <tr>\n",
       "      <th>1</th>\n",
       "      <td>2020-02-02</td>\n",
       "      <td>2020-02-04</td>\n",
       "      <td>YouGov</td>\n",
       "      <td>Economist</td>\n",
       "      <td>376.0</td>\n",
       "      <td>a</td>\n",
       "      <td>R</td>\n",
       "      <td>Trump</td>\n",
       "      <td>False</td>\n",
       "      <td>Do you approve or disapprove of Donald Trump’s...</td>\n",
       "      <td>75.0</td>\n",
       "      <td>6.0</td>\n",
       "      <td>https://d25d2506sfb94s.cloudfront.net/cumulus_...</td>\n",
       "      <td>no</td>\n",
       "    </tr>\n",
       "    <tr>\n",
       "      <th>2</th>\n",
       "      <td>2020-02-02</td>\n",
       "      <td>2020-02-04</td>\n",
       "      <td>YouGov</td>\n",
       "      <td>Economist</td>\n",
       "      <td>523.0</td>\n",
       "      <td>a</td>\n",
       "      <td>D</td>\n",
       "      <td>Trump</td>\n",
       "      <td>False</td>\n",
       "      <td>Do you approve or disapprove of Donald Trump’s...</td>\n",
       "      <td>21.0</td>\n",
       "      <td>51.0</td>\n",
       "      <td>https://d25d2506sfb94s.cloudfront.net/cumulus_...</td>\n",
       "      <td>no</td>\n",
       "    </tr>\n",
       "    <tr>\n",
       "      <th>3</th>\n",
       "      <td>2020-02-02</td>\n",
       "      <td>2020-02-04</td>\n",
       "      <td>YouGov</td>\n",
       "      <td>Economist</td>\n",
       "      <td>599.0</td>\n",
       "      <td>a</td>\n",
       "      <td>I</td>\n",
       "      <td>Trump</td>\n",
       "      <td>False</td>\n",
       "      <td>Do you approve or disapprove of Donald Trump’s...</td>\n",
       "      <td>39.0</td>\n",
       "      <td>25.0</td>\n",
       "      <td>https://d25d2506sfb94s.cloudfront.net/cumulus_...</td>\n",
       "      <td>no</td>\n",
       "    </tr>\n",
       "    <tr>\n",
       "      <th>4</th>\n",
       "      <td>2020-02-09</td>\n",
       "      <td>2020-02-11</td>\n",
       "      <td>YouGov</td>\n",
       "      <td>Economist</td>\n",
       "      <td>1500.0</td>\n",
       "      <td>a</td>\n",
       "      <td>all</td>\n",
       "      <td>Trump</td>\n",
       "      <td>False</td>\n",
       "      <td>Do you approve or disapprove of Donald Trump’s...</td>\n",
       "      <td>39.0</td>\n",
       "      <td>28.0</td>\n",
       "      <td>https://d25d2506sfb94s.cloudfront.net/cumulus_...</td>\n",
       "      <td>no</td>\n",
       "    </tr>\n",
       "  </tbody>\n",
       "</table>\n",
       "</div>"
      ],
      "text/plain": [
       "   start_date    end_date pollster    sponsor  sample_size population party  \\\n",
       "0  2020-02-02  2020-02-04   YouGov  Economist       1500.0          a   all   \n",
       "1  2020-02-02  2020-02-04   YouGov  Economist        376.0          a     R   \n",
       "2  2020-02-02  2020-02-04   YouGov  Economist        523.0          a     D   \n",
       "3  2020-02-02  2020-02-04   YouGov  Economist        599.0          a     I   \n",
       "4  2020-02-09  2020-02-11   YouGov  Economist       1500.0          a   all   \n",
       "\n",
       "  subject tracking                                               text  \\\n",
       "0   Trump    False  Do you approve or disapprove of Donald Trump’s...   \n",
       "1   Trump    False  Do you approve or disapprove of Donald Trump’s...   \n",
       "2   Trump    False  Do you approve or disapprove of Donald Trump’s...   \n",
       "3   Trump    False  Do you approve or disapprove of Donald Trump’s...   \n",
       "4   Trump    False  Do you approve or disapprove of Donald Trump’s...   \n",
       "\n",
       "   approve  disapprove                                                url  \\\n",
       "0     42.0        29.0  https://d25d2506sfb94s.cloudfront.net/cumulus_...   \n",
       "1     75.0         6.0  https://d25d2506sfb94s.cloudfront.net/cumulus_...   \n",
       "2     21.0        51.0  https://d25d2506sfb94s.cloudfront.net/cumulus_...   \n",
       "3     39.0        25.0  https://d25d2506sfb94s.cloudfront.net/cumulus_...   \n",
       "4     39.0        28.0  https://d25d2506sfb94s.cloudfront.net/cumulus_...   \n",
       "\n",
       "  Banned by 538  \n",
       "0            no  \n",
       "1            no  \n",
       "2            no  \n",
       "3            no  \n",
       "4            no  "
      ]
     },
     "execution_count": 5,
     "metadata": {},
     "output_type": "execute_result"
    }
   ],
   "source": [
    "from data_load import approval_polls, concern_polls\n",
    "approval_polls.head()"
   ]
  },
  {
   "cell_type": "code",
   "execution_count": 6,
   "id": "tight-locking",
   "metadata": {},
   "outputs": [
    {
     "data": {
      "text/html": [
       "<div>\n",
       "<style scoped>\n",
       "    .dataframe tbody tr th:only-of-type {\n",
       "        vertical-align: middle;\n",
       "    }\n",
       "\n",
       "    .dataframe tbody tr th {\n",
       "        vertical-align: top;\n",
       "    }\n",
       "\n",
       "    .dataframe thead th {\n",
       "        text-align: right;\n",
       "    }\n",
       "</style>\n",
       "<table border=\"1\" class=\"dataframe\">\n",
       "  <thead>\n",
       "    <tr style=\"text-align: right;\">\n",
       "      <th></th>\n",
       "      <th>start_date</th>\n",
       "      <th>end_date</th>\n",
       "      <th>pollster</th>\n",
       "      <th>sponsor</th>\n",
       "      <th>sample_size</th>\n",
       "      <th>population</th>\n",
       "      <th>party</th>\n",
       "      <th>subject</th>\n",
       "      <th>tracking</th>\n",
       "      <th>text</th>\n",
       "      <th>very</th>\n",
       "      <th>somewhat</th>\n",
       "      <th>not_very</th>\n",
       "      <th>not_at_all</th>\n",
       "      <th>url</th>\n",
       "      <th>Banned by 538</th>\n",
       "    </tr>\n",
       "  </thead>\n",
       "  <tbody>\n",
       "    <tr>\n",
       "      <th>0</th>\n",
       "      <td>2020-01-27</td>\n",
       "      <td>2020-01-29</td>\n",
       "      <td>Morning Consult</td>\n",
       "      <td>NaN</td>\n",
       "      <td>2202</td>\n",
       "      <td>a</td>\n",
       "      <td>all</td>\n",
       "      <td>concern-economy</td>\n",
       "      <td>False</td>\n",
       "      <td>How concerned are you that the coronavirus wil...</td>\n",
       "      <td>19.0</td>\n",
       "      <td>33.0</td>\n",
       "      <td>23.0</td>\n",
       "      <td>11.0</td>\n",
       "      <td>https://morningconsult.com/wp-content/uploads/...</td>\n",
       "      <td>no</td>\n",
       "    </tr>\n",
       "    <tr>\n",
       "      <th>1</th>\n",
       "      <td>2020-01-31</td>\n",
       "      <td>2020-02-02</td>\n",
       "      <td>Morning Consult</td>\n",
       "      <td>NaN</td>\n",
       "      <td>2202</td>\n",
       "      <td>a</td>\n",
       "      <td>all</td>\n",
       "      <td>concern-economy</td>\n",
       "      <td>False</td>\n",
       "      <td>How concerned are you that the coronavirus wil...</td>\n",
       "      <td>26.0</td>\n",
       "      <td>32.0</td>\n",
       "      <td>25.0</td>\n",
       "      <td>7.0</td>\n",
       "      <td>https://morningconsult.com/wp-content/uploads/...</td>\n",
       "      <td>no</td>\n",
       "    </tr>\n",
       "    <tr>\n",
       "      <th>2</th>\n",
       "      <td>2020-02-07</td>\n",
       "      <td>2020-02-09</td>\n",
       "      <td>Morning Consult</td>\n",
       "      <td>NaN</td>\n",
       "      <td>2200</td>\n",
       "      <td>a</td>\n",
       "      <td>all</td>\n",
       "      <td>concern-economy</td>\n",
       "      <td>False</td>\n",
       "      <td>How concerned are you that the coronavirus wil...</td>\n",
       "      <td>23.0</td>\n",
       "      <td>32.0</td>\n",
       "      <td>24.0</td>\n",
       "      <td>9.0</td>\n",
       "      <td>https://morningconsult.com/wp-content/uploads/...</td>\n",
       "      <td>no</td>\n",
       "    </tr>\n",
       "    <tr>\n",
       "      <th>3</th>\n",
       "      <td>2020-02-24</td>\n",
       "      <td>2020-02-26</td>\n",
       "      <td>Morning Consult</td>\n",
       "      <td>NaN</td>\n",
       "      <td>2200</td>\n",
       "      <td>a</td>\n",
       "      <td>all</td>\n",
       "      <td>concern-economy</td>\n",
       "      <td>False</td>\n",
       "      <td>How concerned are you that the coronavirus wil...</td>\n",
       "      <td>32.0</td>\n",
       "      <td>37.0</td>\n",
       "      <td>18.0</td>\n",
       "      <td>6.0</td>\n",
       "      <td>https://morningconsult.com/wp-content/uploads/...</td>\n",
       "      <td>no</td>\n",
       "    </tr>\n",
       "    <tr>\n",
       "      <th>4</th>\n",
       "      <td>2020-02-24</td>\n",
       "      <td>2020-02-26</td>\n",
       "      <td>Morning Consult</td>\n",
       "      <td>NaN</td>\n",
       "      <td>1994</td>\n",
       "      <td>rv</td>\n",
       "      <td>all</td>\n",
       "      <td>concern-economy</td>\n",
       "      <td>False</td>\n",
       "      <td>How concerned are you that the coronavirus wil...</td>\n",
       "      <td>32.0</td>\n",
       "      <td>39.0</td>\n",
       "      <td>17.0</td>\n",
       "      <td>5.0</td>\n",
       "      <td>https://morningconsult.com/wp-content/uploads/...</td>\n",
       "      <td>no</td>\n",
       "    </tr>\n",
       "  </tbody>\n",
       "</table>\n",
       "</div>"
      ],
      "text/plain": [
       "   start_date    end_date         pollster sponsor  sample_size population  \\\n",
       "0  2020-01-27  2020-01-29  Morning Consult     NaN         2202          a   \n",
       "1  2020-01-31  2020-02-02  Morning Consult     NaN         2202          a   \n",
       "2  2020-02-07  2020-02-09  Morning Consult     NaN         2200          a   \n",
       "3  2020-02-24  2020-02-26  Morning Consult     NaN         2200          a   \n",
       "4  2020-02-24  2020-02-26  Morning Consult     NaN         1994         rv   \n",
       "\n",
       "  party          subject  tracking  \\\n",
       "0   all  concern-economy     False   \n",
       "1   all  concern-economy     False   \n",
       "2   all  concern-economy     False   \n",
       "3   all  concern-economy     False   \n",
       "4   all  concern-economy     False   \n",
       "\n",
       "                                                text  very  somewhat  \\\n",
       "0  How concerned are you that the coronavirus wil...  19.0      33.0   \n",
       "1  How concerned are you that the coronavirus wil...  26.0      32.0   \n",
       "2  How concerned are you that the coronavirus wil...  23.0      32.0   \n",
       "3  How concerned are you that the coronavirus wil...  32.0      37.0   \n",
       "4  How concerned are you that the coronavirus wil...  32.0      39.0   \n",
       "\n",
       "   not_very  not_at_all                                                url  \\\n",
       "0      23.0        11.0  https://morningconsult.com/wp-content/uploads/...   \n",
       "1      25.0         7.0  https://morningconsult.com/wp-content/uploads/...   \n",
       "2      24.0         9.0  https://morningconsult.com/wp-content/uploads/...   \n",
       "3      18.0         6.0  https://morningconsult.com/wp-content/uploads/...   \n",
       "4      17.0         5.0  https://morningconsult.com/wp-content/uploads/...   \n",
       "\n",
       "  Banned by 538  \n",
       "0            no  \n",
       "1            no  \n",
       "2            no  \n",
       "3            no  \n",
       "4            no  "
      ]
     },
     "execution_count": 6,
     "metadata": {},
     "output_type": "execute_result"
    }
   ],
   "source": [
    "concern_polls.head()"
   ]
  },
  {
   "cell_type": "markdown",
   "id": "2381c11e-dc0a-4500-82e2-ea1ed2a80824",
   "metadata": {},
   "source": [
    "# Ejercicio 3"
   ]
  },
  {
   "cell_type": "code",
   "execution_count": 7,
   "id": "cb868823-ab64-4a18-b0a2-36556d7574e9",
   "metadata": {},
   "outputs": [],
   "source": [
    "from visualizations import graph_approve_party"
   ]
  },
  {
   "cell_type": "code",
   "execution_count": 8,
   "id": "4b1b3fc6-6c5b-4d0d-ae7e-946ece6e4f48",
   "metadata": {},
   "outputs": [
    {
     "name": "stderr",
     "output_type": "stream",
     "text": [
      "C:\\Users\\Asus\\OneDrive\\Documentos\\Data Science, BI and Big Data\\MASTER DATA SCIENCE\\Programación para la ciencia de datos\\PEC 4 - copia\\visualizations.py:21: SettingWithCopyWarning: \n",
      "A value is trying to be set on a copy of a slice from a DataFrame.\n",
      "Try using .loc[row_indexer,col_indexer] = value instead\n",
      "\n",
      "See the caveats in the documentation: https://pandas.pydata.org/pandas-docs/stable/user_guide/indexing.html#returning-a-view-versus-a-copy\n",
      "  column_percentage='approve')\n",
      "C:\\Users\\Asus\\OneDrive\\Documentos\\Data Science, BI and Big Data\\MASTER DATA SCIENCE\\Programación para la ciencia de datos\\PEC 4 - copia\\visualizations.py:23: SettingWithCopyWarning: \n",
      "A value is trying to be set on a copy of a slice from a DataFrame.\n",
      "Try using .loc[row_indexer,col_indexer] = value instead\n",
      "\n",
      "See the caveats in the documentation: https://pandas.pydata.org/pandas-docs/stable/user_guide/indexing.html#returning-a-view-versus-a-copy\n",
      "  column_percentage='disapprove')\n"
     ]
    },
    {
     "data": {
      "image/png": "[encoded data removed]",
      "text/plain": [
       "<Figure size 1008x576 with 1 Axes>"
      ]
     },
     "metadata": {
      "needs_background": "light"
     },
     "output_type": "display_data"
    }
   ],
   "source": [
    "graph_approve_party(df=approval_polls)"
   ]
  },
  {
   "cell_type": "markdown",
   "id": "5d95f74d-3864-4f80-91d5-bb03ed66cad7",
   "metadata": {},
   "source": [
    "# Ejercicio 4\n",
    "\n",
    "Apartado 4.1"
   ]
  },
  {
   "cell_type": "code",
   "execution_count": 9,
   "id": "b67bd880-fcfa-49be-975f-608a3c6af7b7",
   "metadata": {},
   "outputs": [],
   "source": [
    "from exploration_manipulation import col_sum\n",
    "from visualizations import concern_plot"
   ]
  },
  {
   "cell_type": "code",
   "execution_count": 10,
   "id": "4cb4439d",
   "metadata": {},
   "outputs": [
    {
     "data": {
      "text/plain": [
       "'The sum of the column sample_size for the table concern_polls is: 1342211'"
      ]
     },
     "execution_count": 10,
     "metadata": {},
     "output_type": "execute_result"
    }
   ],
   "source": [
    "col_sum(df=concern_polls, table_name='concern_polls' , column='sample_size')"
   ]
  },
  {
   "cell_type": "markdown",
   "id": "51fe8293-c5ae-4b9a-96c6-2bcf51e198fd",
   "metadata": {},
   "source": [
    "Apartado 4.2"
   ]
  },
  {
   "cell_type": "code",
   "execution_count": 11,
   "id": "7a93c2f9-b00a-480c-9735-9cebbec5c02f",
   "metadata": {},
   "outputs": [
    {
     "data": {
      "image/png": "[encoded data removed]",
      "text/plain": [
       "<Figure size 1008x576 with 1 Axes>"
      ]
     },
     "metadata": {
      "needs_background": "light"
     },
     "output_type": "display_data"
    }
   ],
   "source": [
    "concern_plot(df=concern_polls, df_filter=concern_polls['subject'].str.contains('economy'),columns_concern=[\n",
    "    'very','not_at_all'], title='Subject related to economy')"
   ]
  },
  {
   "cell_type": "markdown",
   "id": "dd6a5c3c-7916-4c58-84cc-2a11457f30da",
   "metadata": {},
   "source": [
    "Apartado 4.3"
   ]
  },
  {
   "cell_type": "code",
   "execution_count": 12,
   "id": "11fced2f-b14d-4fd5-9c46-6b53d0729e9c",
   "metadata": {},
   "outputs": [
    {
     "data": {
      "image/png": "[encoded data removed]",
      "text/plain": [
       "<Figure size 1008x576 with 1 Axes>"
      ]
     },
     "metadata": {
      "needs_background": "light"
     },
     "output_type": "display_data"
    }
   ],
   "source": [
    "concern_plot(df=concern_polls, df_filter=concern_polls['subject'].str.contains('infected'),columns_concern=[\n",
    "    'very','not_at_all'],  title='Subject related to infected')"
   ]
  },
  {
   "cell_type": "markdown",
   "id": "aaf23748-7e0e-4f36-88bb-03b8e2074f82",
   "metadata": {},
   "source": [
    "Apartado 4.4"
   ]
  },
  {
   "cell_type": "code",
   "execution_count": 13,
   "id": "bdcfba09-b7c9-4f6f-b581-8dd23974f641",
   "metadata": {},
   "outputs": [],
   "source": [
    "from data_load import concern_grade\n",
    "from visualizations import concern_grades"
   ]
  },
  {
   "cell_type": "code",
   "execution_count": 14,
   "id": "9a36dace-9acc-4ccc-831c-60dd9f9015b9",
   "metadata": {},
   "outputs": [
    {
     "data": {
      "image/png": "[encoded data removed]",
      "text/plain": [
       "<Figure size 1008x576 with 1 Axes>"
      ]
     },
     "metadata": {
      "needs_background": "light"
     },
     "output_type": "display_data"
    }
   ],
   "source": [
    "concern_grades(df=concern_grade)"
   ]
  },
  {
   "cell_type": "markdown",
   "id": "561514c3-ec5b-4c82-b8c0-36159773a4f5",
   "metadata": {},
   "source": [
    "# Ejercicio 5\n",
    "\n",
    "Apartado 5.1 a)"
   ]
  },
  {
   "cell_type": "code",
   "execution_count": 15,
   "id": "4ceef816-c2cf-4d08-8bd3-bcb016ed7ba3",
   "metadata": {},
   "outputs": [],
   "source": [
    "from data_load import concern_numgrade"
   ]
  },
  {
   "cell_type": "code",
   "execution_count": 16,
   "id": "ef93caa1-fdaa-4903-a476-f21e9b52d3a1",
   "metadata": {},
   "outputs": [
    {
     "data": {
      "image/png": "[encoded data removed]",
      "text/plain": [
       "<Figure size 1008x576 with 1 Axes>"
      ]
     },
     "metadata": {
      "needs_background": "light"
     },
     "output_type": "display_data"
    }
   ],
   "source": [
    "concern_plot(df=concern_numgrade, df_filter=(concern_numgrade['num_grade'] >= 1.5) & (\n",
    "    concern_numgrade['end_date'] < '2020-09-01'), columns_concern=[\n",
    "    'very', 'somewhat', 'not_very', 'not_at_all'], title='fecha antes de 2020-09-01, para puntuación mayor a 1.5')"
   ]
  },
  {
   "cell_type": "code",
   "execution_count": 17,
   "id": "2bb100fb-1d67-4982-9fd3-30bef9681724",
   "metadata": {},
   "outputs": [
    {
     "data": {
      "image/png": "[encoded data removed]",
      "text/plain": [
       "<Figure size 1008x576 with 1 Axes>"
      ]
     },
     "metadata": {
      "needs_background": "light"
     },
     "output_type": "display_data"
    }
   ],
   "source": [
    "concern_plot(df=concern_numgrade, df_filter=(concern_numgrade['num_grade'] >= 1.5) & (\n",
    "    concern_numgrade['end_date'] > '2020-09-01'), columns_concern=[\n",
    "    'very', 'somewhat', 'not_very', 'not_at_all'], title='fecha después de 2020-09-01, para puntuación mayor a 1.5')"
   ]
  },
  {
   "cell_type": "markdown",
   "id": "f7a4be55-1690-4dc1-8008-31dff1e76bbe",
   "metadata": {},
   "source": [
    "Apartado 5.1 b)"
   ]
  },
  {
   "cell_type": "code",
   "execution_count": 18,
   "id": "33b3f920-9de5-4ceb-a82a-b2471d0e6e96",
   "metadata": {},
   "outputs": [
    {
     "data": {
      "image/png": "[encoded data removed]",
      "text/plain": [
       "<Figure size 1008x576 with 1 Axes>"
      ]
     },
     "metadata": {
      "needs_background": "light"
     },
     "output_type": "display_data"
    }
   ],
   "source": [
    "concern_plot(df=concern_numgrade, df_filter=(concern_numgrade['num_grade'] >= 1.5) & (\n",
    "    concern_numgrade['end_date'] < '2020-09-01'), columns_concern=[\n",
    "    'very', 'somewhat', 'not_very', 'not_at_all'], percen=True ,title='fecha antes de 2020-09-01 en porcentage, para puntuación mayor a 1.5')"
   ]
  },
  {
   "cell_type": "code",
   "execution_count": 19,
   "id": "a3c26964-1d08-472b-94af-7e1251e29f3e",
   "metadata": {},
   "outputs": [
    {
     "data": {
      "image/png": "[encoded data removed]",
      "text/plain": [
       "<Figure size 1008x576 with 1 Axes>"
      ]
     },
     "metadata": {
      "needs_background": "light"
     },
     "output_type": "display_data"
    }
   ],
   "source": [
    "concern_plot(df=concern_numgrade, df_filter=(concern_numgrade['num_grade'] >= 1.5) & (\n",
    "    concern_numgrade['end_date'] > '2020-09-01'), columns_concern=[\n",
    "    'very', 'somewhat', 'not_very', 'not_at_all'], percen=True ,title='fecha después de 2020-09-01 en porcentage, para puntuación mayor a 1.5')"
   ]
  },
  {
   "cell_type": "markdown",
   "id": "8ddebc98-8cf5-4909-a8b5-4949a3a3d80a",
   "metadata": {},
   "source": [
    "Apartado 5.2\n",
    "\n",
    "Parece ser que hay más gente muy preocupada en términos brutos, pero en terminos porcentules disminuye tras el 1 de septiembre de 2020. La gente que está algo preocupada aumenta tanto en términos porcentuales como en absolutos, al igual que la gente que no esta muy preocupada y la gente que no está nada preocupada."
   ]
  }
 ],
 "metadata": {
  "kernelspec": {
   "display_name": "Python 3",
   "language": "python",
   "name": "python3"
  },
  "language_info": {
   "codemirror_mode": {
    "name": "ipython",
    "version": 3
   },
   "file_extension": ".py",
   "mimetype": "text/x-python",
   "name": "python",
   "nbconvert_exporter": "python",
   "pygments_lexer": "ipython3",
   "version": "3.7.7"
  },
  "toc-autonumbering": false,
  "toc-showcode": true,
  "toc-showmarkdowntxt": true
 },
 "nbformat": 4,
 "nbformat_minor": 5
}
